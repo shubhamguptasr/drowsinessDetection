{
  "nbformat": 4,
  "nbformat_minor": 0,
  "metadata": {
    "colab": {
      "provenance": [],
      "machine_shape": "hm"
    },
    "kernelspec": {
      "name": "python3",
      "display_name": "Python 3"
    },
    "language_info": {
      "name": "python"
    },
    "gpuClass": "premium",
    "accelerator": "GPU"
  },
  "cells": [
    {
      "cell_type": "code",
      "execution_count": 2,
      "metadata": {
        "id": "Lma-iUP5oZkd"
      },
      "outputs": [],
      "source": [
        "import os\n",
        "import shutil\n",
        "\n",
        "import numpy as np\n",
        "from PIL import Image\n",
        "import matplotlib.pyplot as plt\n",
        "from random import randint\n",
        "\n",
        "import tensorflow as tf\n",
        "from tensorflow.keras.preprocessing.image import ImageDataGenerator\n",
        "from tensorflow.keras.layers import Dense, GlobalAveragePooling2D, Dropout, Flatten, Conv2D, MaxPooling2D, AvgPool2D, BatchNormalization\n",
        "from tensorflow.keras.models import Sequential\n",
        "from tensorflow.keras import layers\n",
        "\n",
        "from tensorflow import keras\n",
        "from tensorflow.keras import layers\n",
        "import tensorflow.keras as keras\n",
        "from keras.utils import to_categorical\n",
        "     "
      ]
    },
    {
      "cell_type": "code",
      "source": [
        "\n",
        "!wget http://mrl.cs.vsb.cz/data/eyedataset/mrlEyes_2018_01.zip\n",
        "!unzip -q mrlEyes_2018_01.zip\n",
        "     "
      ],
      "metadata": {
        "colab": {
          "base_uri": "https://localhost:8080/"
        },
        "id": "ZGs4liWEo-4O",
        "outputId": "14673b3d-b6e5-4e76-97a4-875c710e7c1d"
      },
      "execution_count": 3,
      "outputs": [
        {
          "output_type": "stream",
          "name": "stdout",
          "text": [
            "--2023-03-24 22:57:51--  http://mrl.cs.vsb.cz/data/eyedataset/mrlEyes_2018_01.zip\n",
            "Resolving mrl.cs.vsb.cz (mrl.cs.vsb.cz)... 158.196.141.22\n",
            "Connecting to mrl.cs.vsb.cz (mrl.cs.vsb.cz)|158.196.141.22|:80... connected.\n",
            "HTTP request sent, awaiting response... 200 OK\n",
            "Length: 341866898 (326M) [application/zip]\n",
            "Saving to: ‘mrlEyes_2018_01.zip’\n",
            "\n",
            "mrlEyes_2018_01.zip 100%[===================>] 326.03M  7.10MB/s    in 47s     \n",
            "\n",
            "2023-03-24 22:58:41 (6.92 MB/s) - ‘mrlEyes_2018_01.zip’ saved [341866898/341866898]\n",
            "\n"
          ]
        }
      ]
    },
    {
      "cell_type": "code",
      "source": [
        "# Define the path to the directory where the files were extracted\n",
        "directory = '/content/mrlEyes_2018_01'\n",
        "\n",
        "# Define the path to the \"dataset\" folder\n",
        "dataset_dir = '/content/dataset'\n",
        "\n",
        "# Create new folders named \"open\", \"closed\", and \"invalid\" inside the \"dataset\" folder\n",
        "os.makedirs(os.path.join(dataset_dir, 'open'), exist_ok=True)\n",
        "os.makedirs(os.path.join(dataset_dir, 'closed'), exist_ok=True)\n",
        "#os.makedirs(os.path.join(dataset_dir, 'invalid'), exist_ok=True)\n",
        "\n",
        "# Loop through all files in the directory\n",
        "for folder in os.listdir(directory):\n",
        "    # Get the path to the current folder\n",
        "    folder_path = os.path.join(directory, folder)\n",
        "\n",
        "    # Check if the current item in the directory is a folder\n",
        "    if os.path.isdir(folder_path):\n",
        "        # Loop through all files in the folder\n",
        "        for filename in os.listdir(folder_path):\n",
        "            # Check if the file is a PNG image\n",
        "            if filename.endswith(\".png\"):\n",
        "                # Get the 16th character of the filename\n",
        "                label = filename[16]\n",
        "\n",
        "                # Determine if the image is open or closed\n",
        "                if label == \"0\":\n",
        "                    # Move the file to the \"closed\" folder\n",
        "                    src_path = os.path.join(folder_path, filename)\n",
        "                    dst_path = os.path.join(dataset_dir, 'closed', filename)\n",
        "                    shutil.move(src_path, dst_path)\n",
        "                elif label == \"1\":\n",
        "                    # Move the file to the \"open\" folder\n",
        "                    src_path = os.path.join(folder_path, filename)\n",
        "                    dst_path = os.path.join(dataset_dir, 'open', filename)\n",
        "                    shutil.move(src_path, dst_path)"
      ],
      "metadata": {
        "id": "dFTCZnA_pctk"
      },
      "execution_count": 4,
      "outputs": []
    },
    {
      "cell_type": "code",
      "source": [
        "# Define the path to the \"closed\" folder\n",
        "closed_folder = '/content/dataset/closed'\n",
        "\n",
        "# Count the total number of PNG files in the \"closed\" folder\n",
        "num_png_files = len([f for f in os.listdir(closed_folder) if f.endswith('.png')])\n",
        "\n",
        "# Print the total number of PNG files in the \"closed\" folder\n",
        "print(\"Total number of PNG files in 'closed' folder:\", num_png_files)\n",
        "     "
      ],
      "metadata": {
        "colab": {
          "base_uri": "https://localhost:8080/"
        },
        "id": "ycUHFVussUCk",
        "outputId": "8aa5a8fe-e1d6-4892-d8d7-794e37a11910"
      },
      "execution_count": 5,
      "outputs": [
        {
          "output_type": "stream",
          "name": "stdout",
          "text": [
            "Total number of PNG files in 'closed' folder: 41946\n"
          ]
        }
      ]
    },
    {
      "cell_type": "code",
      "source": [
        "# Define the path to the \"open\" folder\n",
        "open_folder = '/content/dataset/open'\n",
        "\n",
        "# Count the total number of PNG files in the \"open\" folder\n",
        "num_png_files = len([f for f in os.listdir(open_folder) if f.endswith('.png')])\n",
        "\n",
        "# Print the total number of PNG files in the \"open\" folder\n",
        "print(\"Total number of PNG files in open' folder:\", num_png_files)"
      ],
      "metadata": {
        "colab": {
          "base_uri": "https://localhost:8080/"
        },
        "id": "i42xH33NsVBa",
        "outputId": "b2c9d044-2e6b-4c1e-dd5c-4144c3c18f96"
      },
      "execution_count": 6,
      "outputs": [
        {
          "output_type": "stream",
          "name": "stdout",
          "text": [
            "Total number of PNG files in open' folder: 42952\n"
          ]
        }
      ]
    },
    {
      "cell_type": "code",
      "source": [
        "IMAGE_SIZE=256\n",
        "BATCH_SIZE=32\n",
        "CHANNELS=3\n",
        "EPOCHS=5"
      ],
      "metadata": {
        "id": "U8q3aKq-1LY6"
      },
      "execution_count": 7,
      "outputs": []
    },
    {
      "cell_type": "code",
      "source": [
        "dataset = tf.keras.preprocessing.image_dataset_from_directory(\"dataset\", shuffle=\"True\",image_size= (IMAGE_SIZE,IMAGE_SIZE), batch_size=BATCH_SIZE)"
      ],
      "metadata": {
        "colab": {
          "base_uri": "https://localhost:8080/"
        },
        "id": "i1Lvtclsy940",
        "outputId": "d89ce38f-e763-48ae-b02d-6eb2b3ee45bf"
      },
      "execution_count": 8,
      "outputs": [
        {
          "output_type": "stream",
          "name": "stdout",
          "text": [
            "Found 84898 files belonging to 2 classes.\n"
          ]
        }
      ]
    },
    {
      "cell_type": "code",
      "source": [
        "len(dataset)"
      ],
      "metadata": {
        "colab": {
          "base_uri": "https://localhost:8080/"
        },
        "id": "N1QCJaXPzkTH",
        "outputId": "f1b78c15-f067-433f-b795-bc8417bf22c7"
      },
      "execution_count": 9,
      "outputs": [
        {
          "output_type": "execute_result",
          "data": {
            "text/plain": [
              "2654"
            ]
          },
          "metadata": {},
          "execution_count": 9
        }
      ]
    },
    {
      "cell_type": "code",
      "source": [
        "class_names = dataset.class_names\n",
        "class_names"
      ],
      "metadata": {
        "colab": {
          "base_uri": "https://localhost:8080/"
        },
        "id": "O277RfXRzxyq",
        "outputId": "d8fded73-69de-4a19-83f3-e6edf0355fb8"
      },
      "execution_count": 10,
      "outputs": [
        {
          "output_type": "execute_result",
          "data": {
            "text/plain": [
              "['closed', 'open']"
            ]
          },
          "metadata": {},
          "execution_count": 10
        }
      ]
    },
    {
      "cell_type": "code",
      "source": [
        "for image_batch, label_batch in dataset.take(1):\n",
        "  for i in range(12):\n",
        "    ax=plt.subplot(3,4,i+1)\n",
        "    plt.imshow(image_batch[i].numpy().astype(\"uint8\"))\n",
        "    plt.title(class_names[label_batch[i]])\n",
        "    print(image_batch[i].shape)"
      ],
      "metadata": {
        "colab": {
          "base_uri": "https://localhost:8080/",
          "height": 495
        },
        "id": "xcKWwZO5zn67",
        "outputId": "e53e7892-c406-4835-eaf5-30dcfab6967a"
      },
      "execution_count": 11,
      "outputs": [
        {
          "output_type": "stream",
          "name": "stdout",
          "text": [
            "(256, 256, 3)\n",
            "(256, 256, 3)\n",
            "(256, 256, 3)\n",
            "(256, 256, 3)\n",
            "(256, 256, 3)\n",
            "(256, 256, 3)\n",
            "(256, 256, 3)\n",
            "(256, 256, 3)\n",
            "(256, 256, 3)\n",
            "(256, 256, 3)\n",
            "(256, 256, 3)\n",
            "(256, 256, 3)\n"
          ]
        },
        {
          "output_type": "display_data",
          "data": {
            "text/plain": [
              "<Figure size 432x288 with 12 Axes>"
            ],
            "image/png": "[encoded data removed]"
          },
          "metadata": {
            "needs_background": "light"
          }
        }
      ]
    },
    {
      "cell_type": "code",
      "source": [
        "def get_dataset_partitions_tf(ds, train_split=0.8, val_split=0.1, test_split=0.1, shuffle=True, shuffle_size=10000):\n",
        "    assert (train_split + test_split + val_split) == 1\n",
        "    \n",
        "    ds_size = len(ds)\n",
        "    \n",
        "    if shuffle:\n",
        "        ds = ds.shuffle(shuffle_size, seed=12)\n",
        "    \n",
        "    train_size = int(train_split * ds_size)\n",
        "    val_size = int(val_split * ds_size)\n",
        "    \n",
        "    train_ds = ds.take(train_size)    \n",
        "    val_ds = ds.skip(train_size).take(val_size)\n",
        "    test_ds = ds.skip(train_size).skip(val_size)\n",
        "    \n",
        "    return train_ds, val_ds, test_ds"
      ],
      "metadata": {
        "id": "PS79C7ezz1Nr"
      },
      "execution_count": 12,
      "outputs": []
    },
    {
      "cell_type": "code",
      "source": [
        "train_ds, val_ds, test_ds = get_dataset_partitions_tf(dataset)"
      ],
      "metadata": {
        "id": "ZSc_Yya2z5TH"
      },
      "execution_count": 13,
      "outputs": []
    },
    {
      "cell_type": "code",
      "source": [
        "len(train_ds)\n"
      ],
      "metadata": {
        "colab": {
          "base_uri": "https://localhost:8080/"
        },
        "id": "85btXI9yz7m4",
        "outputId": "4d1617e4-d551-4f86-921a-d61cd0721bb6"
      },
      "execution_count": 14,
      "outputs": [
        {
          "output_type": "execute_result",
          "data": {
            "text/plain": [
              "2123"
            ]
          },
          "metadata": {},
          "execution_count": 14
        }
      ]
    },
    {
      "cell_type": "code",
      "source": [
        "len(val_ds)"
      ],
      "metadata": {
        "colab": {
          "base_uri": "https://localhost:8080/"
        },
        "id": "f59oJ4zWz-kC",
        "outputId": "6beac607-8ce4-4329-f30f-11f6b334933f"
      },
      "execution_count": 15,
      "outputs": [
        {
          "output_type": "execute_result",
          "data": {
            "text/plain": [
              "265"
            ]
          },
          "metadata": {},
          "execution_count": 15
        }
      ]
    },
    {
      "cell_type": "code",
      "source": [
        "len(test_ds)"
      ],
      "metadata": {
        "colab": {
          "base_uri": "https://localhost:8080/"
        },
        "id": "WXvE88jH0BU4",
        "outputId": "9f24680f-f7b3-4828-d3b5-c0cf2004d7e3"
      },
      "execution_count": 16,
      "outputs": [
        {
          "output_type": "execute_result",
          "data": {
            "text/plain": [
              "266"
            ]
          },
          "metadata": {},
          "execution_count": 16
        }
      ]
    },
    {
      "cell_type": "code",
      "source": [
        "# #commenting this out as we can't use it for splitting correctly yet\n",
        "# #train_datagen = ImageDataGenerator(validation_split=0.2)\n",
        "\n",
        "# #train_generator = train_datagen.flow_from_directory(directory = \"dataset\", \n",
        "# #                                                     target_size=(32,32),\n",
        "# #                                                     batch_size=32,\n",
        "# #                                                     shuffle=True,\n",
        "#                                                      class_mode='categorical',\n",
        "#                                                      subset='training')\n",
        "\n",
        "# validation_datagen = ImageDataGenerator(validation_split=0.2)\n",
        "# validation_generator =  validation_datagen.flow_from_directory(directory = \"dataset\", \n",
        "#                                                                 target_size=(32,32),\n",
        "#                                                                 batch_size=32,\n",
        "#                                                                 class_mode='categorical',\n",
        "#                                                                 subset='validation')  "
      ],
      "metadata": {
        "id": "45-ZpJvjsgE2"
      },
      "execution_count": 17,
      "outputs": []
    },
    {
      "cell_type": "code",
      "source": [
        "#train_generator.class_indices"
      ],
      "metadata": {
        "id": "3SfXKDkG2pa3"
      },
      "execution_count": null,
      "outputs": []
    },
    {
      "cell_type": "code",
      "source": [
        "resize_and_rescale = tf.keras.Sequential([\n",
        "  layers.experimental.preprocessing.Resizing(IMAGE_SIZE, IMAGE_SIZE),\n",
        "  layers.experimental.preprocessing.Rescaling(1./255),\n",
        "])"
      ],
      "metadata": {
        "id": "sUq5EriQsqkM"
      },
      "execution_count": 18,
      "outputs": []
    },
    {
      "cell_type": "code",
      "source": [
        "input_shape = (BATCH_SIZE, IMAGE_SIZE, IMAGE_SIZE, CHANNELS)\n",
        "n_classes = 2\n",
        "\n",
        "model = Sequential([\n",
        "    resize_and_rescale,\n",
        "    layers.Conv2D(32, kernel_size = (3,3), activation='relu', input_shape=input_shape),\n",
        "    layers.MaxPooling2D((2, 2)),\n",
        "    layers.Conv2D(64,  kernel_size = (3,3), activation='relu'),\n",
        "    layers.MaxPooling2D((2, 2)),\n",
        "    layers.Conv2D(64,  kernel_size = (3,3), activation='relu'),\n",
        "    layers.MaxPooling2D((2, 2)),\n",
        "    layers.Conv2D(64, (3, 3), activation='relu'),\n",
        "    layers.MaxPooling2D((2, 2)),\n",
        "    layers.Conv2D(64, (3, 3), activation='relu'),\n",
        "    layers.MaxPooling2D((2, 2)),\n",
        "    layers.Conv2D(64, (3, 3), activation='relu'),\n",
        "    layers.MaxPooling2D((2, 2)),\n",
        "    layers.Flatten(),\n",
        "    layers.Dense(64, activation='relu'),\n",
        "    layers.Dense(n_classes, activation='softmax'),\n",
        "])\n",
        "\n",
        "model.build(input_shape=input_shape)"
      ],
      "metadata": {
        "id": "I1JQPU4ls1YE"
      },
      "execution_count": 19,
      "outputs": []
    },
    {
      "cell_type": "code",
      "source": [
        "model.summary()"
      ],
      "metadata": {
        "colab": {
          "base_uri": "https://localhost:8080/"
        },
        "id": "dhERGYW5s5xA",
        "outputId": "9047eb56-b665-46f1-9749-bb69a926f9c9"
      },
      "execution_count": 20,
      "outputs": [
        {
          "output_type": "stream",
          "name": "stdout",
          "text": [
            "Model: \"sequential_1\"\n",
            "_________________________________________________________________\n",
            " Layer (type)                Output Shape              Param #   \n",
            "=================================================================\n",
            " sequential (Sequential)     (32, 256, 256, 3)         0         \n",
            "                                                                 \n",
            " conv2d (Conv2D)             (32, 254, 254, 32)        896       \n",
            "                                                                 \n",
            " max_pooling2d (MaxPooling2D  (32, 127, 127, 32)       0         \n",
            " )                                                               \n",
            "                                                                 \n",
            " conv2d_1 (Conv2D)           (32, 125, 125, 64)        18496     \n",
            "                                                                 \n",
            " max_pooling2d_1 (MaxPooling  (32, 62, 62, 64)         0         \n",
            " 2D)                                                             \n",
            "                                                                 \n",
            " conv2d_2 (Conv2D)           (32, 60, 60, 64)          36928     \n",
            "                                                                 \n",
            " max_pooling2d_2 (MaxPooling  (32, 30, 30, 64)         0         \n",
            " 2D)                                                             \n",
            "                                                                 \n",
            " conv2d_3 (Conv2D)           (32, 28, 28, 64)          36928     \n",
            "                                                                 \n",
            " max_pooling2d_3 (MaxPooling  (32, 14, 14, 64)         0         \n",
            " 2D)                                                             \n",
            "                                                                 \n",
            " conv2d_4 (Conv2D)           (32, 12, 12, 64)          36928     \n",
            "                                                                 \n",
            " max_pooling2d_4 (MaxPooling  (32, 6, 6, 64)           0         \n",
            " 2D)                                                             \n",
            "                                                                 \n",
            " conv2d_5 (Conv2D)           (32, 4, 4, 64)            36928     \n",
            "                                                                 \n",
            " max_pooling2d_5 (MaxPooling  (32, 2, 2, 64)           0         \n",
            " 2D)                                                             \n",
            "                                                                 \n",
            " flatten (Flatten)           (32, 256)                 0         \n",
            "                                                                 \n",
            " dense (Dense)               (32, 64)                  16448     \n",
            "                                                                 \n",
            " dense_1 (Dense)             (32, 2)                   130       \n",
            "                                                                 \n",
            "=================================================================\n",
            "Total params: 183,682\n",
            "Trainable params: 183,682\n",
            "Non-trainable params: 0\n",
            "_________________________________________________________________\n"
          ]
        }
      ]
    },
    {
      "cell_type": "code",
      "source": [
        "model.compile(\n",
        "    optimizer='adam',\n",
        "    #loss=tf.keras.losses.SparseCategoricalCrossentropy(from_logits=False),\n",
        "    loss = 'mse',\n",
        "    metrics=['accuracy']\n",
        ")"
      ],
      "metadata": {
        "id": "BuieeBdqs8Md"
      },
      "execution_count": 21,
      "outputs": []
    },
    {
      "cell_type": "code",
      "source": [
        "history = model.fit(\n",
        "    train_ds,\n",
        "    batch_size=BATCH_SIZE,\n",
        "    validation_data=val_ds,\n",
        "    verbose=1,\n",
        "    epochs=1,\n",
        ")"
      ],
      "metadata": {
        "colab": {
          "base_uri": "https://localhost:8080/"
        },
        "id": "o7UufN5Ns-cG",
        "outputId": "14b95769-6688-4caa-950a-04dd44d6a971"
      },
      "execution_count": 22,
      "outputs": [
        {
          "output_type": "stream",
          "name": "stdout",
          "text": [
            "2123/2123 [==============================] - 80s 24ms/step - loss: 0.2500 - accuracy: 0.4834 - val_loss: 0.2500 - val_accuracy: 0.4817\n"
          ]
        }
      ]
    }
  ]
}