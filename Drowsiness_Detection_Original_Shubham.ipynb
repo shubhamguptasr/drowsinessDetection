{
  "cells": [
    {
      "cell_type": "markdown",
      "metadata": {
        "id": "zXWJ-LXrPQi9"
      },
      "source": [
        "# Introduction.\n",
        "\n",
        "##### MRL Eye Dataset was created by xyz. Give a short summary of what the code is doing and the final results."
      ]
    },
    {
      "cell_type": "markdown",
      "metadata": {
        "id": "6PMc5C15KZOi"
      },
      "source": [
        "# Import Libraries"
      ]
    },
    {
      "cell_type": "code",
      "execution_count": null,
      "metadata": {
        "id": "ezyzMO7BKPT-"
      },
      "outputs": [],
      "source": [
        "import os\n",
        "import shutil\n",
        "\n",
        "import numpy as np\n",
        "from PIL import Image\n",
        "import matplotlib.pyplot as plt\n",
        "from random import randint\n",
        "\n",
        "import tensorflow as tf\n",
        "from tensorflow.keras.preprocessing.image import ImageDataGenerator\n",
        "from tensorflow.keras.layers import Dense, GlobalAveragePooling2D, Dropout, Flatten, Conv2D, MaxPooling2D, AvgPool2D, BatchNormalization\n",
        "from tensorflow.keras.models import Sequential"
      ]
    },
    {
      "cell_type": "markdown",
      "metadata": {
        "id": "drso45sTrCQn"
      },
      "source": [
        "# Import MRL Eye Dataset from Web \n",
        "\n",
        "\n"
      ]
    },
    {
      "cell_type": "code",
      "execution_count": null,
      "metadata": {
        "colab": {
          "base_uri": "https://localhost:8080/"
        },
        "id": "TLRrYufII9Os",
        "outputId": "9198d3de-ca0d-454b-cc39-38904ab7b026"
      },
      "outputs": [
        {
          "name": "stdout",
          "output_type": "stream",
          "text": [
            "--2023-03-10 22:58:11--  http://mrl.cs.vsb.cz/data/eyedataset/mrlEyes_2018_01.zip\n",
            "Resolving mrl.cs.vsb.cz (mrl.cs.vsb.cz)... 158.196.141.22\n",
            "Connecting to mrl.cs.vsb.cz (mrl.cs.vsb.cz)|158.196.141.22|:80... connected.\n",
            "HTTP request sent, awaiting response... 200 OK\n",
            "Length: 341866898 (326M) [application/zip]\n",
            "Saving to: ‘mrlEyes_2018_01.zip’\n",
            "\n",
            "mrlEyes_2018_01.zip 100%[===================>] 326.03M  6.98MB/s    in 40s     \n",
            "\n",
            "2023-03-10 22:58:52 (8.08 MB/s) - ‘mrlEyes_2018_01.zip’ saved [341866898/341866898]\n",
            "\n"
          ]
        }
      ],
      "source": [
        "!wget http://mrl.cs.vsb.cz/data/eyedataset/mrlEyes_2018_01.zip\n",
        "!unzip -q mrlEyes_2018_01.zip"
      ]
    },
    {
      "cell_type": "markdown",
      "metadata": {
        "id": "1oUKzXLYJ3dh"
      },
      "source": [
        "# Sparse Data into labelled Open & Closed Images  "
      ]
    },
    {
      "cell_type": "code",
      "execution_count": null,
      "metadata": {
        "id": "4IX1-U3LK-f5"
      },
      "outputs": [],
      "source": [
        "# Define the path to the directory where the files were extracted\n",
        "directory = '/content/mrlEyes_2018_01'\n",
        "\n",
        "# Define the path to the \"dataset\" folder\n",
        "dataset_dir = '/content/dataset'\n",
        "\n",
        "# Create new folders named \"open\", \"closed\", and \"invalid\" inside the \"dataset\" folder\n",
        "os.makedirs(os.path.join(dataset_dir, 'open'), exist_ok=True)\n",
        "os.makedirs(os.path.join(dataset_dir, 'closed'), exist_ok=True)\n",
        "#os.makedirs(os.path.join(dataset_dir, 'invalid'), exist_ok=True)\n",
        "\n",
        "# Loop through all files in the directory\n",
        "for folder in os.listdir(directory):\n",
        "    # Get the path to the current folder\n",
        "    folder_path = os.path.join(directory, folder)\n",
        "\n",
        "    # Check if the current item in the directory is a folder\n",
        "    if os.path.isdir(folder_path):\n",
        "        # Loop through all files in the folder\n",
        "        for filename in os.listdir(folder_path):\n",
        "            # Check if the file is a PNG image\n",
        "            if filename.endswith(\".png\"):\n",
        "                # Get the 16th character of the filename\n",
        "                label = filename[16]\n",
        "\n",
        "                # Determine if the image is open or closed\n",
        "                if label == \"0\":\n",
        "                    # Move the file to the \"closed\" folder\n",
        "                    src_path = os.path.join(folder_path, filename)\n",
        "                    dst_path = os.path.join(dataset_dir, 'closed', filename)\n",
        "                    shutil.move(src_path, dst_path)\n",
        "                elif label == \"1\":\n",
        "                    # Move the file to the \"open\" folder\n",
        "                    src_path = os.path.join(folder_path, filename)\n",
        "                    dst_path = os.path.join(dataset_dir, 'open', filename)\n",
        "                    shutil.move(src_path, dst_path)\n",
        "                # else:\n",
        "                #     # Move the file to the \"invalid\" folder\n",
        "                #     src_path = os.path.join(folder_path, filename)\n",
        "                #     dst_path = os.path.join(dataset_dir, 'invalid', filename)\n",
        "                #     shutil.move(src_path, dst_path)"
      ]
    },
    {
      "cell_type": "markdown",
      "metadata": {
        "id": "G8vl5Dc1LZag"
      },
      "source": [
        "# Check Number of Labelled Images"
      ]
    },
    {
      "cell_type": "code",
      "execution_count": null,
      "metadata": {
        "colab": {
          "base_uri": "https://localhost:8080/"
        },
        "id": "9VLX00lGLep9",
        "outputId": "fc9fee7a-d3bc-46d8-905a-c541a3a089b1"
      },
      "outputs": [
        {
          "name": "stdout",
          "output_type": "stream",
          "text": [
            "Total number of PNG files in 'closed' folder: 41946\n"
          ]
        }
      ],
      "source": [
        "# Define the path to the \"closed\" folder\n",
        "closed_folder = '/content/dataset/closed'\n",
        "\n",
        "# Count the total number of PNG files in the \"closed\" folder\n",
        "num_png_files = len([f for f in os.listdir(closed_folder) if f.endswith('.png')])\n",
        "\n",
        "# Print the total number of PNG files in the \"closed\" folder\n",
        "print(\"Total number of PNG files in 'closed' folder:\", num_png_files)"
      ]
    },
    {
      "cell_type": "code",
      "execution_count": null,
      "metadata": {
        "colab": {
          "base_uri": "https://localhost:8080/"
        },
        "id": "k_wEkmHkLgyn",
        "outputId": "d7226138-ce2a-4d55-81dd-e1bcc88e5f68"
      },
      "outputs": [
        {
          "name": "stdout",
          "output_type": "stream",
          "text": [
            "Total number of PNG files in open' folder: 42952\n"
          ]
        }
      ],
      "source": [
        "# Define the path to the \"open\" folder\n",
        "open_folder = '/content/dataset/open'\n",
        "\n",
        "# Count the total number of PNG files in the \"open\" folder\n",
        "num_png_files = len([f for f in os.listdir(open_folder) if f.endswith('.png')])\n",
        "\n",
        "# Print the total number of PNG files in the \"open\" folder\n",
        "print(\"Total number of PNG files in open' folder:\", num_png_files)"
      ]
    },
    {
      "cell_type": "markdown",
      "metadata": {
        "id": "VsE08yFTzVhj"
      },
      "source": [
        "# Cleaning & Preprocessing Data"
      ]
    },
    {
      "cell_type": "code",
      "execution_count": null,
      "metadata": {
        "id": "WYAiDzG5xzIl"
      },
      "outputs": [],
      "source": [
        "# # Set up the data generators\n",
        "# datagen = ImageDataGenerator(\n",
        "#     rescale=1./255,\n",
        "#     validation_split=0.2\n",
        "# )"
      ]
    },
    {
      "cell_type": "markdown",
      "metadata": {
        "id": "Wy-nEPKyzZIu"
      },
      "source": [
        "# Creating Train Test and Validation Split"
      ]
    },
    {
      "cell_type": "code",
      "execution_count": null,
      "metadata": {
        "colab": {
          "base_uri": "https://localhost:8080/"
        },
        "id": "gGueXk92x1uw",
        "outputId": "378b1a86-ffaf-49c7-b62a-b923722792cf"
      },
      "outputs": [
        {
          "name": "stdout",
          "output_type": "stream",
          "text": [
            "Found 67919 images belonging to 2 classes.\n"
          ]
        }
      ],
      "source": [
        "# train_generator = datagen.flow_from_directory(\n",
        "#     dataset_dir,\n",
        "#     target_size=(224, 224),\n",
        "#     batch_size=32,\n",
        "#     class_mode='binary',\n",
        "#     subset='training'\n",
        "# )"
      ]
    },
    {
      "cell_type": "code",
      "execution_count": null,
      "metadata": {
        "colab": {
          "base_uri": "https://localhost:8080/"
        },
        "id": "AGEdDy3Bx59n",
        "outputId": "bc343852-5f03-451c-b9c0-eb6002ad0910"
      },
      "outputs": [
        {
          "name": "stdout",
          "output_type": "stream",
          "text": [
            "Found 16979 images belonging to 2 classes.\n"
          ]
        }
      ],
      "source": [
        "# val_generator = datagen.flow_from_directory(\n",
        "#     dataset_dir,\n",
        "#     target_size=(224, 224),\n",
        "#     batch_size=32,\n",
        "#     class_mode='binary',\n",
        "#     subset='validation'\n",
        "# )"
      ]
    },
    {
      "cell_type": "markdown",
      "metadata": {
        "id": "nI2DdDPnzwHy"
      },
      "source": [
        "# Creating CNN Model"
      ]
    },
    {
      "cell_type": "code",
      "execution_count": null,
      "metadata": {
        "colab": {
          "base_uri": "https://localhost:8080/"
        },
        "id": "ntroaKy8x8av",
        "outputId": "2e035eb6-7f96-42b3-bed4-092be84b6a08"
      },
      "outputs": [
        {
          "name": "stdout",
          "output_type": "stream",
          "text": [
            "Model: \"sequential_1\"\n",
            "_________________________________________________________________\n",
            " Layer (type)                Output Shape              Param #   \n",
            "=================================================================\n",
            " conv2d_4 (Conv2D)           (None, 222, 222, 32)      896       \n",
            "                                                                 \n",
            " max_pooling2d_4 (MaxPooling  (None, 111, 111, 32)     0         \n",
            " 2D)                                                             \n",
            "                                                                 \n",
            " conv2d_5 (Conv2D)           (None, 109, 109, 64)      18496     \n",
            "                                                                 \n",
            " max_pooling2d_5 (MaxPooling  (None, 54, 54, 64)       0         \n",
            " 2D)                                                             \n",
            "                                                                 \n",
            " conv2d_6 (Conv2D)           (None, 52, 52, 128)       73856     \n",
            "                                                                 \n",
            " max_pooling2d_6 (MaxPooling  (None, 26, 26, 128)      0         \n",
            " 2D)                                                             \n",
            "                                                                 \n",
            " conv2d_7 (Conv2D)           (None, 24, 24, 256)       295168    \n",
            "                                                                 \n",
            " max_pooling2d_7 (MaxPooling  (None, 12, 12, 256)      0         \n",
            " 2D)                                                             \n",
            "                                                                 \n",
            " global_average_pooling2d_1   (None, 256)              0         \n",
            " (GlobalAveragePooling2D)                                        \n",
            "                                                                 \n",
            " dense_2 (Dense)             (None, 512)               131584    \n",
            "                                                                 \n",
            " dropout_1 (Dropout)         (None, 512)               0         \n",
            "                                                                 \n",
            " dense_3 (Dense)             (None, 2)                 1026      \n",
            "                                                                 \n",
            "=================================================================\n",
            "Total params: 521,026\n",
            "Trainable params: 521,026\n",
            "Non-trainable params: 0\n",
            "_________________________________________________________________\n"
          ]
        }
      ],
      "source": [
        "# # Define the CNN model\n",
        "# model = Sequential([\n",
        "#     Conv2D(32, (3,3), activation='relu', input_shape=(224, 224, 3)),\n",
        "#     MaxPooling2D(2,2),\n",
        "#     Conv2D(64, (3,3), activation='relu'),\n",
        "#     MaxPooling2D(2,2),\n",
        "#     Conv2D(128, (3,3), activation='relu'),\n",
        "#     MaxPooling2D(2,2),\n",
        "#     Conv2D(256, (3,3), activation='relu'),\n",
        "#     MaxPooling2D(2,2),\n",
        "#     GlobalAveragePooling2D(),\n",
        "#     Dense(512, activation='relu'),\n",
        "#     Dropout(0.2),\n",
        "#     Dense(2, activation='softmax')\n",
        "# ])\n",
        "\n",
        "# model.summary()"
      ]
    },
    {
      "cell_type": "markdown",
      "metadata": {
        "id": "1ARqmT2bz49a"
      },
      "source": [
        "# Model Compliation"
      ]
    },
    {
      "cell_type": "code",
      "execution_count": null,
      "metadata": {
        "id": "rU5Uzr1PyaQj"
      },
      "outputs": [],
      "source": [
        "# model.compile(optimizer='adam', loss='sparse_categorical_crossentropy', metrics=['accuracy'])"
      ]
    },
    {
      "cell_type": "markdown",
      "metadata": {
        "id": "oEmiUCdQ0D93"
      },
      "source": [
        "# Model Training"
      ]
    },
    {
      "cell_type": "code",
      "execution_count": null,
      "metadata": {
        "colab": {
          "background_save": true,
          "base_uri": "https://localhost:8080/"
        },
        "id": "yas_X9yyycU4",
        "outputId": "82be2b0a-546a-445f-cdf1-0eb1c2563acd"
      },
      "outputs": [
        {
          "name": "stdout",
          "output_type": "stream",
          "text": [
            "Epoch 1/10\n",
            "2123/2123 [==============================] - 159s 69ms/step - loss: 0.4942 - accuracy: 0.7385 - val_loss: 0.8080 - val_accuracy: 0.6937\n",
            "Epoch 2/10\n",
            "2123/2123 [==============================] - 151s 71ms/step - loss: 0.2229 - accuracy: 0.9109 - val_loss: 0.6289 - val_accuracy: 0.7359\n",
            "Epoch 3/10\n",
            "2123/2123 [==============================] - 150s 71ms/step - loss: 0.1312 - accuracy: 0.9510 - val_loss: 0.2888 - val_accuracy: 0.8818\n",
            "Epoch 4/10\n",
            " 715/2123 [=========>....................] - ETA: 1:18 - loss: 0.1008 - accuracy: 0.9616"
          ]
        }
      ],
      "source": [
        "# history = model.fit(train_generator,\n",
        "#                     epochs=10,\n",
        "#                     validation_data=val_generator)"
      ]
    },
    {
      "cell_type": "markdown",
      "metadata": {
        "id": "VYF__VVU0J7C"
      },
      "source": [
        "# Model Evaluation"
      ]
    },
    {
      "cell_type": "code",
      "execution_count": null,
      "metadata": {
        "id": "VtA_AutozNVo"
      },
      "outputs": [],
      "source": [
        "# test_loss, test_acc = model.evaluate(test_generator)\n",
        "\n",
        "# print('Test accuracy:', test_acc)"
      ]
    },
    {
      "cell_type": "markdown",
      "metadata": {
        "id": "8C82YjLCL5_t"
      },
      "source": [
        "# Data Split"
      ]
    },
    {
      "cell_type": "code",
      "execution_count": null,
      "metadata": {
        "colab": {
          "base_uri": "https://localhost:8080/"
        },
        "id": "JQWQXIEFMHhu",
        "outputId": "8cf016d8-8a67-4906-8a73-ee527de5f065"
      },
      "outputs": [
        {
          "name": "stdout",
          "output_type": "stream",
          "text": [
            "Found 67919 images belonging to 2 classes.\n",
            "Found 16979 images belonging to 2 classes.\n"
          ]
        }
      ],
      "source": [
        "train_datagen = ImageDataGenerator(validation_split=0.2)\n",
        "\n",
        "train_generator = train_datagen.flow_from_directory(directory = \"dataset\", \n",
        "                                                     target_size=(32,32),\n",
        "                                                     batch_size=32,\n",
        "                                                     shuffle=True,\n",
        "                                                     class_mode='categorical',\n",
        "                                                     subset='training')\n",
        "\n",
        "validation_datagen = ImageDataGenerator(validation_split=0.2)\n",
        "validation_generator =  validation_datagen.flow_from_directory(directory = \"dataset\", \n",
        "                                                                target_size=(32,32),\n",
        "                                                                batch_size=32,\n",
        "                                                                class_mode='categorical',\n",
        "                                                                subset='validation')   "
      ]
    },
    {
      "cell_type": "code",
      "execution_count": null,
      "metadata": {
        "colab": {
          "base_uri": "https://localhost:8080/"
        },
        "id": "szdSHeMQMMAP",
        "outputId": "7ec158a4-50ee-49b3-ffaa-678b0a6984ff"
      },
      "outputs": [
        {
          "data": {
            "text/plain": [
              "{'closed': 0, 'open': 1}"
            ]
          },
          "execution_count": 7,
          "metadata": {},
          "output_type": "execute_result"
        }
      ],
      "source": [
        "train_generator.class_indices"
      ]
    },
    {
      "cell_type": "markdown",
      "metadata": {
        "id": "cMRqkHiGMO7l"
      },
      "source": [
        "# Create CNN Model"
      ]
    },
    {
      "cell_type": "code",
      "execution_count": null,
      "metadata": {
        "colab": {
          "base_uri": "https://localhost:8080/"
        },
        "id": "Buen0XuKMSne",
        "outputId": "fdcd7505-4187-48fb-dc1f-f43083a2bc8c"
      },
      "outputs": [
        {
          "name": "stdout",
          "output_type": "stream",
          "text": [
            "Model: \"sequential_1\"\n",
            "_________________________________________________________________\n",
            " Layer (type)                Output Shape              Param #   \n",
            "=================================================================\n",
            " conv2d_3 (Conv2D)           (None, 30, 30, 32)        896       \n",
            "                                                                 \n",
            " max_pooling2d_3 (MaxPooling  (None, 30, 30, 32)       0         \n",
            " 2D)                                                             \n",
            "                                                                 \n",
            " conv2d_4 (Conv2D)           (None, 28, 28, 32)        9248      \n",
            "                                                                 \n",
            " max_pooling2d_4 (MaxPooling  (None, 28, 28, 32)       0         \n",
            " 2D)                                                             \n",
            "                                                                 \n",
            " conv2d_5 (Conv2D)           (None, 26, 26, 64)        18496     \n",
            "                                                                 \n",
            " max_pooling2d_5 (MaxPooling  (None, 26, 26, 64)       0         \n",
            " 2D)                                                             \n",
            "                                                                 \n",
            " dropout_1 (Dropout)         (None, 26, 26, 64)        0         \n",
            "                                                                 \n",
            " flatten_1 (Flatten)         (None, 43264)             0         \n",
            "                                                                 \n",
            " dense_2 (Dense)             (None, 128)               5537920   \n",
            "                                                                 \n",
            " dense_3 (Dense)             (None, 2)                 258       \n",
            "                                                                 \n",
            "=================================================================\n",
            "Total params: 5,566,818\n",
            "Trainable params: 5,566,818\n",
            "Non-trainable params: 0\n",
            "_________________________________________________________________\n"
          ]
        }
      ],
      "source": [
        "cnn_model = Sequential([\n",
        "    Conv2D(32, kernel_size=(3, 3), activation='relu', input_shape=(32,32,3)),\n",
        "    MaxPooling2D(pool_size=(1,1)),\n",
        "    Conv2D(32,(3,3),activation='relu'),\n",
        "    MaxPooling2D(pool_size=(1,1)),\n",
        "#32 convolution filters used each of size 3x3\n",
        "#again\n",
        "    Conv2D(64, (3, 3), activation='relu'),\n",
        "    MaxPooling2D(pool_size=(1,1)),\n",
        "\n",
        "#64 convolution filters used each of size 3x3\n",
        "#choose the best features via pooling\n",
        "    \n",
        "#randomly turn neurons on and off to improve convergence\n",
        "    Dropout(0.25),\n",
        "#flatten since too many dimensions, we only want a classification output\n",
        "    Flatten(),\n",
        "#fully connected to get all relevant data\n",
        "    Dense(128, activation='relu'),\n",
        "#one more dropout for convergence' sake :) \n",
        "#    Dropout(0.5),\n",
        "#output a softmax to squash the matrix into output probabilities\n",
        "    Dense(2, activation='softmax')\n",
        "])\n",
        "\n",
        "cnn_model.summary()"
      ]
    },
    {
      "cell_type": "markdown",
      "metadata": {
        "id": "X_KmVHrFMgIH"
      },
      "source": [
        "# Model Compliation"
      ]
    },
    {
      "cell_type": "code",
      "execution_count": null,
      "metadata": {
        "id": "e_W6ec28MlnF"
      },
      "outputs": [],
      "source": [
        "cnn_model.compile(optimizer='adam',loss='categorical_crossentropy',metrics=[tf.keras.metrics.CategoricalAccuracy(),tf.keras.metrics.Precision(), tf.keras.metrics.Recall()])\n"
      ]
    },
    {
      "cell_type": "markdown",
      "metadata": {
        "id": "y8vb5K8hMryJ"
      },
      "source": [
        "# Model Training"
      ]
    },
    {
      "cell_type": "code",
      "execution_count": null,
      "metadata": {
        "colab": {
          "base_uri": "https://localhost:8080/"
        },
        "id": "WeOnKaU-MuHb",
        "outputId": "ff6710b4-07e1-4680-a45c-1ffede0048b1"
      },
      "outputs": [
        {
          "name": "stdout",
          "output_type": "stream",
          "text": [
            "Epoch 1/10\n",
            "2123/2123 [==============================] - 66s 25ms/step - loss: 0.7385 - categorical_accuracy: 0.9314 - precision: 0.9314 - recall: 0.9314 - val_loss: 0.3314 - val_categorical_accuracy: 0.8776 - val_precision: 0.8776 - val_recall: 0.8776\n",
            "Epoch 2/10\n",
            "2123/2123 [==============================] - 51s 24ms/step - loss: 0.0853 - categorical_accuracy: 0.9697 - precision: 0.9697 - recall: 0.9697 - val_loss: 0.2501 - val_categorical_accuracy: 0.9001 - val_precision: 0.9001 - val_recall: 0.9001\n",
            "Epoch 3/10\n",
            "2123/2123 [==============================] - 51s 24ms/step - loss: 0.0662 - categorical_accuracy: 0.9776 - precision: 0.9776 - recall: 0.9776 - val_loss: 0.2506 - val_categorical_accuracy: 0.9200 - val_precision: 0.9200 - val_recall: 0.9200\n",
            "Epoch 4/10\n",
            "2123/2123 [==============================] - 53s 25ms/step - loss: 0.0612 - categorical_accuracy: 0.9786 - precision: 0.9786 - recall: 0.9786 - val_loss: 0.2868 - val_categorical_accuracy: 0.8926 - val_precision: 0.8926 - val_recall: 0.8926\n",
            "Epoch 5/10\n",
            "2123/2123 [==============================] - 51s 24ms/step - loss: 0.0678 - categorical_accuracy: 0.9770 - precision: 0.9770 - recall: 0.9770 - val_loss: 0.2052 - val_categorical_accuracy: 0.9204 - val_precision: 0.9204 - val_recall: 0.9204\n",
            "Epoch 6/10\n",
            "2123/2123 [==============================] - 50s 24ms/step - loss: 0.0470 - categorical_accuracy: 0.9839 - precision: 0.9839 - recall: 0.9839 - val_loss: 0.1750 - val_categorical_accuracy: 0.9405 - val_precision: 0.9405 - val_recall: 0.9405\n",
            "Epoch 7/10\n",
            "2123/2123 [==============================] - 50s 23ms/step - loss: 0.0409 - categorical_accuracy: 0.9856 - precision: 0.9856 - recall: 0.9856 - val_loss: 0.2679 - val_categorical_accuracy: 0.9110 - val_precision: 0.9110 - val_recall: 0.9110\n",
            "Epoch 8/10\n",
            "2123/2123 [==============================] - 51s 24ms/step - loss: 0.0411 - categorical_accuracy: 0.9857 - precision: 0.9857 - recall: 0.9857 - val_loss: 0.2395 - val_categorical_accuracy: 0.9227 - val_precision: 0.9227 - val_recall: 0.9227\n",
            "Epoch 9/10\n",
            "2123/2123 [==============================] - 52s 25ms/step - loss: 0.0361 - categorical_accuracy: 0.9872 - precision: 0.9872 - recall: 0.9872 - val_loss: 0.2424 - val_categorical_accuracy: 0.9283 - val_precision: 0.9283 - val_recall: 0.9283\n",
            "Epoch 10/10\n",
            "2123/2123 [==============================] - 50s 23ms/step - loss: 0.0348 - categorical_accuracy: 0.9871 - precision: 0.9871 - recall: 0.9871 - val_loss: 0.3465 - val_categorical_accuracy: 0.9214 - val_precision: 0.9214 - val_recall: 0.9214\n"
          ]
        }
      ],
      "source": [
        "history = cnn_model.fit(train_generator, validation_data=validation_generator, epochs=10)"
      ]
    },
    {
      "cell_type": "markdown",
      "metadata": {
        "id": "yvIUwryZO5zS"
      },
      "source": [
        "### Plots"
      ]
    },
    {
      "cell_type": "code",
      "execution_count": null,
      "metadata": {
        "colab": {
          "base_uri": "https://localhost:8080/",
          "height": 295
        },
        "id": "buwwukU8O8Z2",
        "outputId": "19d44467-e706-4a43-b6a4-4e666bde9de2"
      },
      "outputs": [
        {
          "data": {
            "image/png": "[encoded data removed]",
            "text/plain": [
              "<Figure size 432x288 with 1 Axes>"
            ]
          },
          "metadata": {},
          "output_type": "display_data"
        }
      ],
      "source": [
        "fig1 = plt.gcf()\n",
        "plt.plot(history.history['categorical_accuracy'])\n",
        "plt.plot(history.history['val_categorical_accuracy'])\n",
        "plt.axis(ymin=0.4,ymax=1)\n",
        "plt.grid()\n",
        "plt.title('Model Accuracy')\n",
        "plt.ylabel('Accuracy')\n",
        "plt.xlabel('Epochs')\n",
        "plt.legend(['train', 'validation'])\n",
        "plt.show()"
      ]
    },
    {
      "cell_type": "markdown",
      "metadata": {
        "id": "IB66o_6-NBn8"
      },
      "source": [
        "# Model Evaluation"
      ]
    },
    {
      "cell_type": "code",
      "execution_count": null,
      "metadata": {
        "id": "Elq_TL3BNEzD"
      },
      "outputs": [],
      "source": []
    },
    {
      "cell_type": "markdown",
      "metadata": {
        "id": "Z8EccQK0NKlc"
      },
      "source": []
    },
    {
      "cell_type": "markdown",
      "metadata": {
        "id": "FhQWDUwOJ3MQ"
      },
      "source": []
    }
  ],
  "metadata": {
    "accelerator": "TPU",
    "colab": {
      "provenance": []
    },
    "gpuClass": "standard",
    "kernelspec": {
      "display_name": "Python 3",
      "name": "python3"
    },
    "language_info": {
      "name": "python"
    }
  },
  "nbformat": 4,
  "nbformat_minor": 0
}