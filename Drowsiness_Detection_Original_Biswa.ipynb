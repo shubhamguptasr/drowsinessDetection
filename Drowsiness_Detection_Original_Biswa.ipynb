{
  "nbformat": 4,
  "nbformat_minor": 0,
  "metadata": {
    "colab": {
      "provenance": [],
      "machine_shape": "hm"
    },
    "kernelspec": {
      "name": "python3",
      "display_name": "Python 3"
    },
    "language_info": {
      "name": "python"
    },
    "accelerator": "GPU",
    "gpuClass": "premium"
  },
  "cells": [
    {
      "cell_type": "markdown",
      "metadata": {
        "id": "view-in-github"
      },
      "source": [
        "<a href=\"https://colab.research.google.com/github/shubhamguptasr/drowsinessDetection/blob/main/Drowsiness_Detection_Original.ipynb\" target=\"_parent\"><img src=\"https://colab.research.google.com/assets/colab-badge.svg\" alt=\"Open In Colab\"/></a>"
      ]
    },
    {
      "cell_type": "markdown",
      "source": [
        "# Introduction.\n",
        "\n",
        "##### MRL Eye Dataset was created by xyz. Give a short summary of what the code is doing and the final results."
      ],
      "metadata": {
        "id": "zXWJ-LXrPQi9"
      }
    },
    {
      "cell_type": "markdown",
      "source": [
        "# Import Libraries"
      ],
      "metadata": {
        "id": "6PMc5C15KZOi"
      }
    },
    {
      "cell_type": "code",
      "source": [
        "import os\n",
        "import shutil\n",
        "from pathlib import Path\n",
        "\n",
        "import numpy as np\n",
        "from PIL import Image\n",
        "import matplotlib.pyplot as plt\n",
        "from random import randint\n",
        "\n",
        "import tensorflow as tf\n",
        "from tensorflow.keras.preprocessing.image import ImageDataGenerator\n",
        "from tensorflow.keras.layers import Dense, GlobalAveragePooling2D, Dropout, Flatten, Conv2D, MaxPooling2D, AvgPool2D, BatchNormalization\n",
        "from tensorflow.keras.models import Sequential"
      ],
      "metadata": {
        "id": "ezyzMO7BKPT-"
      },
      "execution_count": 1,
      "outputs": []
    },
    {
      "cell_type": "markdown",
      "source": [
        "# Import MRL Eye Dataset from Web \n",
        "\n",
        "\n"
      ],
      "metadata": {
        "id": "drso45sTrCQn"
      }
    },
    {
      "cell_type": "code",
      "execution_count": 2,
      "metadata": {
        "colab": {
          "base_uri": "https://localhost:8080/"
        },
        "id": "TLRrYufII9Os",
        "outputId": "6303fa4c-ed95-4d86-a075-8b7cdeddc2a3"
      },
      "outputs": [
        {
          "output_type": "stream",
          "name": "stdout",
          "text": [
            "--2023-03-21 00:12:12--  http://mrl.cs.vsb.cz/data/eyedataset/mrlEyes_2018_01.zip\n",
            "Resolving mrl.cs.vsb.cz (mrl.cs.vsb.cz)... 158.196.141.22\n",
            "Connecting to mrl.cs.vsb.cz (mrl.cs.vsb.cz)|158.196.141.22|:80... connected.\n",
            "HTTP request sent, awaiting response... 200 OK\n",
            "Length: 341866898 (326M) [application/zip]\n",
            "Saving to: ‘mrlEyes_2018_01.zip’\n",
            "\n",
            "mrlEyes_2018_01.zip 100%[===================>] 326.03M  5.54MB/s    in 56s     \n",
            "\n",
            "2023-03-21 00:13:12 (5.80 MB/s) - ‘mrlEyes_2018_01.zip’ saved [341866898/341866898]\n",
            "\n"
          ]
        }
      ],
      "source": [
        "!wget http://mrl.cs.vsb.cz/data/eyedataset/mrlEyes_2018_01.zip\n",
        "!unzip -q mrlEyes_2018_01.zip"
      ]
    },
    {
      "cell_type": "markdown",
      "source": [
        "# Sparse Data into labelled Open & Closed Images  "
      ],
      "metadata": {
        "id": "1oUKzXLYJ3dh"
      }
    },
    {
      "cell_type": "code",
      "source": [
        "#function to bucket open & close into different folders given a sample \n",
        "def bucket_Open_close_Image(path,open_dir,close_dir):\n",
        "\n",
        "  print('Inside function : '+path)\n",
        "  #print('Inside function : '+open_dir)\n",
        "  #print('Inside function : '+close_dir)\n",
        "   \n",
        "  #creating new folders \n",
        "  Path(open_dir).mkdir(parents=True, exist_ok=True)\n",
        "  Path(close_dir).mkdir(parents=True, exist_ok=True)\n",
        "\n",
        "  with os.scandir(path) as entries:\n",
        "      for entry in entries:\n",
        "          if entry.is_file():\n",
        "              #print(entry.name)                         \n",
        "              open_close_indicator=entry.name.split(\"_\")[4]          \n",
        "              if open_close_indicator == '0':\n",
        "                #print('Eyes close'+entry.name)\n",
        "                try:\n",
        "                  shutil.copy(entry,close_dir)\n",
        "                except shutil.SameFileError:\n",
        "                  pass                  \n",
        "              elif open_close_indicator == '1':\n",
        "                #print('Eyes open'+entry.name)                \n",
        "                try:\n",
        "                  shutil.copy(entry, open_dir)\n",
        "                except shutil.SameFileError:\n",
        "                  pass    \n",
        "              else:\n",
        "                print('Outlier found -non -labelled data '+entry.name)"
      ],
      "metadata": {
        "id": "4IX1-U3LK-f5"
      },
      "execution_count": 3,
      "outputs": []
    },
    {
      "cell_type": "code",
      "source": [
        "#function to bucket the images  open & close  with subcategories \n",
        "# 1. glasses 2.reflections 3.lighting conditions/image quality)\n",
        "\n",
        "#function to bucket open & close into different folders given a sample \n",
        "def bucket_Open_close_Image_into_subcategories(path,open_dir,close_dir):\n",
        "\n",
        "  #print('Inside function : '+path)\n",
        "  #print('Inside function : '+open_dir)\n",
        "  #print('Inside function : '+close_dir)\n",
        "   \n",
        "  #creating parent folders\n",
        "  Path(open_dir).mkdir(parents=True, exist_ok=True)\n",
        "  Path(close_dir).mkdir(parents=True, exist_ok=True)\n",
        "\n",
        "  #creating sub category folders for open\n",
        "  open_glass_on =open_dir+'/glass_yes'\n",
        "  open_glass_off =open_dir+'/glass_no'\n",
        "  open_relection_none =open_dir+'/reflection_none'\n",
        "  open_relection_low =open_dir+'/reflection_low'\n",
        "  open_relection_high =open_dir+'/reflection_high'\n",
        "  open_imagequality_bad =open_dir+'/imagequality_bad'\n",
        "  open_imagequality_good =open_dir+'/imagequality_good'\n",
        "\n",
        "  Path(open_glass_on).mkdir(exist_ok=True)\n",
        "  Path(open_glass_off).mkdir( exist_ok=True)\n",
        "  Path(open_relection_none).mkdir( exist_ok=True)\n",
        "  Path(open_relection_low).mkdir( exist_ok=True)\n",
        "  Path(open_relection_high).mkdir( exist_ok=True)\n",
        "  Path(open_imagequality_bad).mkdir( exist_ok=True)\n",
        "  Path(open_imagequality_good).mkdir( exist_ok=True)\n",
        "\n",
        "\n",
        "  #creating sub category folders for close\n",
        "  close_glass_on =close_dir+'/glass_yes'\n",
        "  close_glass_off =close_dir+'/glass_no'\n",
        "  close_relection_none =close_dir+'/reflection_none'\n",
        "  close_relection_low =close_dir+'/reflection_low'\n",
        "  close_relection_high =close_dir+'/reflection_high'\n",
        "  close_imagequality_bad =close_dir+'/imagequality_bad'\n",
        "  close_imagequality_good =close_dir+'/imagequality_good'\n",
        "\n",
        "  Path(close_glass_on).mkdir(exist_ok=True)\n",
        "  Path(close_glass_off).mkdir( exist_ok=True)\n",
        "  Path(close_relection_none).mkdir( exist_ok=True)\n",
        "  Path(close_relection_low).mkdir( exist_ok=True)\n",
        "  Path(close_relection_high).mkdir( exist_ok=True)\n",
        "  Path(close_imagequality_bad).mkdir( exist_ok=True)\n",
        "  Path(close_imagequality_good).mkdir( exist_ok=True)\n",
        "\n",
        "\n",
        "  with os.scandir(path) as entries:\n",
        "      for entry in entries:\n",
        "          if entry.is_file():\n",
        "              #print(entry.name)                         \n",
        "            \n",
        "              glass_indicator=entry.name.split(\"_\")[3]\n",
        "              open_close_indicator=entry.name.split(\"_\")[4]\n",
        "              relection_indicator=entry.name.split(\"_\")[5]\n",
        "              image_quality_indicator=entry.name.split(\"_\")[6]\n",
        "              try:                                        \n",
        "\n",
        "                  if open_close_indicator == '0':\n",
        "                    \n",
        "                  \n",
        "                    #bucketing subcategory glass\n",
        "                    if glass_indicator =='0':\n",
        "                      shutil.copy(entry,open_glass_off)\n",
        "                    elif glass_indicator =='1':\n",
        "                      shutil.copy(entry,open_glass_on)                \n",
        "\n",
        "                    #bucketing subcategory reflection\n",
        "                    if relection_indicator =='0':\n",
        "                      shutil.copy(entry,open_relection_none)\n",
        "                    elif relection_indicator =='1':\n",
        "                      shutil.copy(entry,open_relection_low)\n",
        "                    elif relection_indicator =='2':\n",
        "                      shutil.copy(entry,open_relection_high)\n",
        "\n",
        "                    #bucketing subcategory image quality\n",
        "                    if image_quality_indicator =='0':\n",
        "                      shutil.copy(entry,open_imagequality_bad)\n",
        "                    elif image_quality_indicator =='1':\n",
        "                      shutil.copy(entry,open_imagequality_good)\n",
        "                    \n",
        "                  elif open_close_indicator == '1':\n",
        "                    #print('Eyes open'+entry.name)                \n",
        "                    #bucketing subcategory glass\n",
        "                    if glass_indicator =='0':\n",
        "                      shutil.copy(entry,close_glass_off)\n",
        "                    elif glass_indicator =='1':\n",
        "                      shutil.copy(entry,close_glass_on)\n",
        "\n",
        "                    #bucketing subcategory reflection\n",
        "                    if relection_indicator =='0':\n",
        "                      shutil.copy(entry,close_relection_none)\n",
        "                    elif relection_indicator =='1':\n",
        "                      shutil.copy(entry,close_relection_low)\n",
        "                    elif relection_indicator =='2':\n",
        "                      shutil.copy(entry,close_relection_high)\n",
        "\n",
        "                    #bucketing subcategory image quality\n",
        "                    if image_quality_indicator =='0':\n",
        "                      shutil.copy(entry,close_imagequality_bad)\n",
        "                    elif image_quality_indicator =='1':\n",
        "                      shutil.copy(entry,close_imagequality_good)\n",
        "                  else:\n",
        "                    print('Outlier found -non -labelled data '+entry.name)\n",
        "              except shutil.SameFileError:\n",
        "                  pass \n",
        "\n"
      ],
      "metadata": {
        "id": "5J1ZTXl-63Yp"
      },
      "execution_count": 4,
      "outputs": []
    },
    {
      "cell_type": "code",
      "source": [
        "#calling the function to bucket the data\n",
        "\n",
        "basepath = 'mrlEyes_2018_01/'\n",
        "#use the below two params to run with the funcion bucket_Open_close_Image\n",
        "#open_dir ='mrlEyes_2018_01/dataset/open'\n",
        "#close_dir ='mrlEyes_2018_01/dataset/close'\n",
        "\n",
        "#use the below two params to run with the funcion bucket_Open_close_Image_into_subcategories\n",
        "open_dir ='mrlEyes_2018_01/dataset_subcategory/open'\n",
        "close_dir ='mrlEyes_2018_01/dataset_subcategory/close'\n",
        "\n",
        "sampleData=[]\n",
        "for root, dirs, files in os.walk(basepath):\n",
        "    for dirname in dirs:\n",
        "        sampleData.append(os.path.join(root, dirname))\n",
        "print(sampleData)\n",
        "\n",
        " #clearing the existing folder and files if exists \n",
        "shutil.rmtree(open_dir,ignore_errors=True)\n",
        "shutil.rmtree(close_dir,ignore_errors=True)\n",
        "\n",
        "for path in sampleData:\n",
        "    bucket_Open_close_Image_into_subcategories(path,open_dir,close_dir)"
      ],
      "metadata": {
        "colab": {
          "base_uri": "https://localhost:8080/"
        },
        "id": "mjOt91Ns5Gmx",
        "outputId": "b72463c6-92d9-4e6a-81b1-7544b4e18abf"
      },
      "execution_count": 5,
      "outputs": [
        {
          "output_type": "stream",
          "name": "stdout",
          "text": [
            "['mrlEyes_2018_01/s0037', 'mrlEyes_2018_01/s0029', 'mrlEyes_2018_01/s0022', 'mrlEyes_2018_01/s0025', 'mrlEyes_2018_01/s0015', 'mrlEyes_2018_01/s0036', 'mrlEyes_2018_01/s0032', 'mrlEyes_2018_01/s0020', 'mrlEyes_2018_01/s0016', 'mrlEyes_2018_01/s0005', 'mrlEyes_2018_01/s0004', 'mrlEyes_2018_01/s0031', 'mrlEyes_2018_01/s0035', 'mrlEyes_2018_01/s0023', 'mrlEyes_2018_01/s0010', 'mrlEyes_2018_01/s0030', 'mrlEyes_2018_01/s0027', 'mrlEyes_2018_01/s0007', 'mrlEyes_2018_01/s0024', 'mrlEyes_2018_01/s0006', 'mrlEyes_2018_01/s0003', 'mrlEyes_2018_01/s0026', 'mrlEyes_2018_01/s0034', 'mrlEyes_2018_01/s0001', 'mrlEyes_2018_01/s0011', 'mrlEyes_2018_01/s0033', 'mrlEyes_2018_01/s0019', 'mrlEyes_2018_01/s0012', 'mrlEyes_2018_01/s0014', 'mrlEyes_2018_01/s0013', 'mrlEyes_2018_01/s0028', 'mrlEyes_2018_01/s0008', 'mrlEyes_2018_01/s0002', 'mrlEyes_2018_01/s0017', 'mrlEyes_2018_01/s0018', 'mrlEyes_2018_01/s0009', 'mrlEyes_2018_01/s0021']\n"
          ]
        }
      ]
    },
    {
      "cell_type": "markdown",
      "source": [
        "# Check Number of Labelled Images"
      ],
      "metadata": {
        "id": "G8vl5Dc1LZag"
      }
    },
    {
      "cell_type": "code",
      "source": [
        "import os\n",
        "\n",
        "#use this when bucketing w/o sub categories\n",
        "open_dir ='mrlEyes_2018_01/dataset/open'\n",
        "close_dir ='mrlEyes_2018_01/dataset/close'\n",
        "\n",
        "#use this when bucketing with  sub categories\n",
        "#open_dir ='mrlEyes_2018_01/dataset_subcategory/open'\n",
        "#close_dir ='mrlEyes_2018_01/dataset_subcategory/close'\n",
        "\n",
        "for dir,subdir,files in os.walk(open_dir):  \n",
        "    print(dir  + \" has total number of files :\" + str(len(files)))\n",
        "\n",
        "print ('---------------------------------------------------------------------------------------------')\n",
        "for dir,subdir,files in os.walk(close_dir):  \n",
        "    print(dir  + \" has total number of files :\" + str(len(files))) \n",
        "    "
      ],
      "metadata": {
        "colab": {
          "base_uri": "https://localhost:8080/"
        },
        "id": "i2nGD4CoVLTn",
        "outputId": "f777fbb5-6832-432e-9d10-e34e91cc66df"
      },
      "execution_count": 6,
      "outputs": [
        {
          "output_type": "stream",
          "name": "stdout",
          "text": [
            "---------------------------------------------------------------------------------------------\n"
          ]
        }
      ]
    },
    {
      "cell_type": "markdown",
      "source": [
        "# Data Split"
      ],
      "metadata": {
        "id": "8C82YjLCL5_t"
      }
    },
    {
      "cell_type": "code",
      "source": [
        "train_datagen = ImageDataGenerator(validation_split=0.2)\n",
        "\n",
        "train_generator = train_datagen.flow_from_directory(directory = \"mrlEyes_2018_01/dataset_subcategory\", \n",
        "                                                     target_size=(32,32),\n",
        "                                                     batch_size=32,\n",
        "                                                     shuffle=True,\n",
        "                                                     class_mode='categorical',\n",
        "                                                     subset='training')\n",
        "\n",
        "validation_datagen = ImageDataGenerator(validation_split=0.2)\n",
        "validation_generator =  validation_datagen.flow_from_directory(directory = \"mrlEyes_2018_01/dataset_subcategory\", \n",
        "                                                                target_size=(32,32),\n",
        "                                                                batch_size=32,\n",
        "                                                                class_mode='categorical',\n",
        "                                                                subset='validation')   "
      ],
      "metadata": {
        "colab": {
          "base_uri": "https://localhost:8080/"
        },
        "id": "JQWQXIEFMHhu",
        "outputId": "d741fdef-6f68-4c77-8077-84bd70abfb8c"
      },
      "execution_count": 7,
      "outputs": [
        {
          "output_type": "stream",
          "name": "stdout",
          "text": [
            "Found 203756 images belonging to 2 classes.\n",
            "Found 50938 images belonging to 2 classes.\n"
          ]
        }
      ]
    },
    {
      "cell_type": "code",
      "source": [
        "train_generator.class_indices"
      ],
      "metadata": {
        "colab": {
          "base_uri": "https://localhost:8080/"
        },
        "id": "szdSHeMQMMAP",
        "outputId": "67441d4f-b694-4721-f1d3-e29fa175d03e"
      },
      "execution_count": 8,
      "outputs": [
        {
          "output_type": "execute_result",
          "data": {
            "text/plain": [
              "{'close': 0, 'open': 1}"
            ]
          },
          "metadata": {},
          "execution_count": 8
        }
      ]
    },
    {
      "cell_type": "markdown",
      "source": [
        "# Create CNN Model"
      ],
      "metadata": {
        "id": "cMRqkHiGMO7l"
      }
    },
    {
      "cell_type": "code",
      "source": [
        "cnn_model = Sequential([\n",
        "    Conv2D(32, kernel_size=(3, 3), activation='relu', input_shape=(32,32,3)),\n",
        "    MaxPooling2D(pool_size=(1,1)),\n",
        "    Conv2D(32,(3,3),activation='relu'),\n",
        "    MaxPooling2D(pool_size=(1,1)),\n",
        "#32 convolution filters used each of size 3x3\n",
        "#again\n",
        "    Conv2D(64, (3, 3), activation='relu'),\n",
        "    MaxPooling2D(pool_size=(1,1)),\n",
        "\n",
        "#64 convolution filters used each of size 3x3\n",
        "#choose the best features via pooling\n",
        "    \n",
        "#randomly turn neurons on and off to improve convergence\n",
        "    Dropout(0.25),\n",
        "#flatten since too many dimensions, we only want a classification output\n",
        "    Flatten(),\n",
        "#fully connected to get all relevant data\n",
        "    Dense(128, activation='relu'),\n",
        "#one more dropout for convergence' sake :) \n",
        "#    Dropout(0.5),\n",
        "#output a softmax to squash the matrix into output probabilities\n",
        "    Dense(2, activation='softmax')\n",
        "])\n",
        "\n",
        "cnn_model.summary()"
      ],
      "metadata": {
        "colab": {
          "base_uri": "https://localhost:8080/"
        },
        "id": "Buen0XuKMSne",
        "outputId": "d76ca3af-8997-45f2-dc70-544dba65bc5d"
      },
      "execution_count": 9,
      "outputs": [
        {
          "output_type": "stream",
          "name": "stdout",
          "text": [
            "Model: \"sequential\"\n",
            "_________________________________________________________________\n",
            " Layer (type)                Output Shape              Param #   \n",
            "=================================================================\n",
            " conv2d (Conv2D)             (None, 30, 30, 32)        896       \n",
            "                                                                 \n",
            " max_pooling2d (MaxPooling2D  (None, 30, 30, 32)       0         \n",
            " )                                                               \n",
            "                                                                 \n",
            " conv2d_1 (Conv2D)           (None, 28, 28, 32)        9248      \n",
            "                                                                 \n",
            " max_pooling2d_1 (MaxPooling  (None, 28, 28, 32)       0         \n",
            " 2D)                                                             \n",
            "                                                                 \n",
            " conv2d_2 (Conv2D)           (None, 26, 26, 64)        18496     \n",
            "                                                                 \n",
            " max_pooling2d_2 (MaxPooling  (None, 26, 26, 64)       0         \n",
            " 2D)                                                             \n",
            "                                                                 \n",
            " dropout (Dropout)           (None, 26, 26, 64)        0         \n",
            "                                                                 \n",
            " flatten (Flatten)           (None, 43264)             0         \n",
            "                                                                 \n",
            " dense (Dense)               (None, 128)               5537920   \n",
            "                                                                 \n",
            " dense_1 (Dense)             (None, 2)                 258       \n",
            "                                                                 \n",
            "=================================================================\n",
            "Total params: 5,566,818\n",
            "Trainable params: 5,566,818\n",
            "Non-trainable params: 0\n",
            "_________________________________________________________________\n"
          ]
        }
      ]
    },
    {
      "cell_type": "markdown",
      "source": [
        "# Model Compliation"
      ],
      "metadata": {
        "id": "X_KmVHrFMgIH"
      }
    },
    {
      "cell_type": "code",
      "source": [
        "cnn_model.compile(optimizer='adam',loss='categorical_crossentropy',metrics=[tf.keras.metrics.CategoricalAccuracy(),tf.keras.metrics.Precision(), tf.keras.metrics.Recall()])\n"
      ],
      "metadata": {
        "id": "e_W6ec28MlnF"
      },
      "execution_count": 10,
      "outputs": []
    },
    {
      "cell_type": "markdown",
      "source": [
        "# Model Training"
      ],
      "metadata": {
        "id": "y8vb5K8hMryJ"
      }
    },
    {
      "cell_type": "code",
      "source": [
        "history = cnn_model.fit(train_generator, validation_data=validation_generator, epochs=10)"
      ],
      "metadata": {
        "colab": {
          "base_uri": "https://localhost:8080/"
        },
        "id": "WeOnKaU-MuHb",
        "outputId": "785fd63f-50c4-4fab-ede8-1b31a47b99e6"
      },
      "execution_count": 11,
      "outputs": [
        {
          "output_type": "stream",
          "name": "stdout",
          "text": [
            "Epoch 1/10\n",
            "6368/6368 [==============================] - 115s 16ms/step - loss: 0.2711 - categorical_accuracy: 0.9512 - precision: 0.9512 - recall: 0.9512 - val_loss: 0.0523 - val_categorical_accuracy: 0.9822 - val_precision: 0.9822 - val_recall: 0.9822\n",
            "Epoch 2/10\n",
            "6368/6368 [==============================] - 97s 15ms/step - loss: 0.0568 - categorical_accuracy: 0.9807 - precision: 0.9807 - recall: 0.9807 - val_loss: 0.0344 - val_categorical_accuracy: 0.9893 - val_precision: 0.9893 - val_recall: 0.9893\n",
            "Epoch 3/10\n",
            "6368/6368 [==============================] - 97s 15ms/step - loss: 0.0379 - categorical_accuracy: 0.9874 - precision: 0.9874 - recall: 0.9874 - val_loss: 0.0246 - val_categorical_accuracy: 0.9915 - val_precision: 0.9915 - val_recall: 0.9915\n",
            "Epoch 4/10\n",
            "6368/6368 [==============================] - 96s 15ms/step - loss: 0.0337 - categorical_accuracy: 0.9887 - precision: 0.9887 - recall: 0.9887 - val_loss: 0.0182 - val_categorical_accuracy: 0.9941 - val_precision: 0.9941 - val_recall: 0.9941\n",
            "Epoch 5/10\n",
            "6368/6368 [==============================] - 97s 15ms/step - loss: 0.0244 - categorical_accuracy: 0.9919 - precision: 0.9919 - recall: 0.9919 - val_loss: 0.0181 - val_categorical_accuracy: 0.9936 - val_precision: 0.9936 - val_recall: 0.9936\n",
            "Epoch 6/10\n",
            "6368/6368 [==============================] - 97s 15ms/step - loss: 0.0219 - categorical_accuracy: 0.9930 - precision: 0.9930 - recall: 0.9930 - val_loss: 0.0105 - val_categorical_accuracy: 0.9962 - val_precision: 0.9962 - val_recall: 0.9962\n",
            "Epoch 7/10\n",
            "6368/6368 [==============================] - 96s 15ms/step - loss: 0.0207 - categorical_accuracy: 0.9936 - precision: 0.9936 - recall: 0.9936 - val_loss: 0.0112 - val_categorical_accuracy: 0.9963 - val_precision: 0.9963 - val_recall: 0.9963\n",
            "Epoch 8/10\n",
            "6368/6368 [==============================] - 96s 15ms/step - loss: 0.0194 - categorical_accuracy: 0.9940 - precision: 0.9940 - recall: 0.9940 - val_loss: 0.0104 - val_categorical_accuracy: 0.9966 - val_precision: 0.9966 - val_recall: 0.9966\n",
            "Epoch 9/10\n",
            "6368/6368 [==============================] - 97s 15ms/step - loss: 0.0188 - categorical_accuracy: 0.9945 - precision: 0.9945 - recall: 0.9945 - val_loss: 0.0090 - val_categorical_accuracy: 0.9969 - val_precision: 0.9969 - val_recall: 0.9969\n",
            "Epoch 10/10\n",
            "6368/6368 [==============================] - 96s 15ms/step - loss: 0.0187 - categorical_accuracy: 0.9948 - precision: 0.9948 - recall: 0.9948 - val_loss: 0.0221 - val_categorical_accuracy: 0.9940 - val_precision: 0.9940 - val_recall: 0.9940\n"
          ]
        }
      ]
    },
    {
      "cell_type": "markdown",
      "source": [
        "### Plots"
      ],
      "metadata": {
        "id": "yvIUwryZO5zS"
      }
    },
    {
      "cell_type": "code",
      "source": [
        "fig1 = plt.gcf()\n",
        "plt.plot(history.history['categorical_accuracy'])\n",
        "plt.plot(history.history['val_categorical_accuracy'])\n",
        "plt.axis(ymin=0.4,ymax=1)\n",
        "plt.grid()\n",
        "plt.title('Model Accuracy')\n",
        "plt.ylabel('Accuracy')\n",
        "plt.xlabel('Epochs')\n",
        "plt.legend(['train', 'validation'])\n",
        "plt.show()"
      ],
      "metadata": {
        "colab": {
          "base_uri": "https://localhost:8080/",
          "height": 295
        },
        "id": "buwwukU8O8Z2",
        "outputId": "3a7a21ff-a44e-490b-b3ab-0b85881a6bd8"
      },
      "execution_count": 12,
      "outputs": [
        {
          "output_type": "display_data",
          "data": {
            "text/plain": [
              "<Figure size 432x288 with 1 Axes>"
            ],
            "image/png": "[encoded data removed]"
          },
          "metadata": {
            "needs_background": "light"
          }
        }
      ]
    },
    {
      "cell_type": "markdown",
      "source": [
        "# Model Evaluation"
      ],
      "metadata": {
        "id": "IB66o_6-NBn8"
      }
    },
    {
      "cell_type": "code",
      "source": [],
      "metadata": {
        "id": "Elq_TL3BNEzD"
      },
      "execution_count": 12,
      "outputs": []
    },
    {
      "cell_type": "markdown",
      "source": [],
      "metadata": {
        "id": "Z8EccQK0NKlc"
      }
    },
    {
      "cell_type": "markdown",
      "source": [],
      "metadata": {
        "id": "FhQWDUwOJ3MQ"
      }
    }
  ]
}